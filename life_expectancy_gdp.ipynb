{
 "cells": [
  {
   "source": [
    "# Life Expectancy and GDP\n",
    "\n",
    "Here, I analyzed data from the World Health Organization and the World Bank to identify the relationship between GDP and life expectancy in six countries."
   ],
   "cell_type": "markdown",
   "metadata": {}
  },
  {
   "source": [
    "## Preparation\n",
    "\n",
    "First, I imported **Pandas** and **seaborn**."
   ],
   "cell_type": "markdown",
   "metadata": {}
  },
  {
   "cell_type": "code",
   "execution_count": 4,
   "metadata": {},
   "outputs": [],
   "source": [
    "import pandas as pd\n",
    "import seaborn as sns"
   ]
  },
  {
   "source": [
    "Then, I loaded the data."
   ],
   "cell_type": "markdown",
   "metadata": {}
  },
  {
   "cell_type": "code",
   "execution_count": 3,
   "metadata": {},
   "outputs": [],
   "source": [
    "all_data = pd.read_csv(\"all_data.csv\")"
   ]
  },
  {
   "source": [
    "Once the data was loaded, I looked at the names of each column and the total amount of columns."
   ],
   "cell_type": "markdown",
   "metadata": {}
  },
  {
   "cell_type": "code",
   "execution_count": 6,
   "metadata": {},
   "outputs": [
    {
     "output_type": "execute_result",
     "data": {
      "text/plain": [
       "Index(['Country', 'Year', 'Life expectancy at birth (years)', 'GDP'], dtype='object')"
      ]
     },
     "metadata": {},
     "execution_count": 6
    }
   ],
   "source": [
    "all_data.columns"
   ]
  },
  {
   "source": [
    "The dataset contains four columns with the following information:\n",
    "* Country\n",
    "* Year\n",
    "* Life expectancy at birth in years\n",
    "* GDP"
   ],
   "cell_type": "markdown",
   "metadata": {}
  },
  {
   "source": [
    "Then, I inspected the first five lines of data."
   ],
   "cell_type": "markdown",
   "metadata": {}
  },
  {
   "cell_type": "code",
   "execution_count": 7,
   "metadata": {},
   "outputs": [
    {
     "output_type": "execute_result",
     "data": {
      "text/plain": [
       "  Country  Year  Life expectancy at birth (years)           GDP\n",
       "0   Chile  2000                              77.3  7.786093e+10\n",
       "1   Chile  2001                              77.3  7.097992e+10\n",
       "2   Chile  2002                              77.8  6.973681e+10\n",
       "3   Chile  2003                              77.9  7.564346e+10\n",
       "4   Chile  2004                              78.0  9.921039e+10"
      ],
      "text/html": "<div>\n<style scoped>\n    .dataframe tbody tr th:only-of-type {\n        vertical-align: middle;\n    }\n\n    .dataframe tbody tr th {\n        vertical-align: top;\n    }\n\n    .dataframe thead th {\n        text-align: right;\n    }\n</style>\n<table border=\"1\" class=\"dataframe\">\n  <thead>\n    <tr style=\"text-align: right;\">\n      <th></th>\n      <th>Country</th>\n      <th>Year</th>\n      <th>Life expectancy at birth (years)</th>\n      <th>GDP</th>\n    </tr>\n  </thead>\n  <tbody>\n    <tr>\n      <th>0</th>\n      <td>Chile</td>\n      <td>2000</td>\n      <td>77.3</td>\n      <td>7.786093e+10</td>\n    </tr>\n    <tr>\n      <th>1</th>\n      <td>Chile</td>\n      <td>2001</td>\n      <td>77.3</td>\n      <td>7.097992e+10</td>\n    </tr>\n    <tr>\n      <th>2</th>\n      <td>Chile</td>\n      <td>2002</td>\n      <td>77.8</td>\n      <td>6.973681e+10</td>\n    </tr>\n    <tr>\n      <th>3</th>\n      <td>Chile</td>\n      <td>2003</td>\n      <td>77.9</td>\n      <td>7.564346e+10</td>\n    </tr>\n    <tr>\n      <th>4</th>\n      <td>Chile</td>\n      <td>2004</td>\n      <td>78.0</td>\n      <td>9.921039e+10</td>\n    </tr>\n  </tbody>\n</table>\n</div>"
     },
     "metadata": {},
     "execution_count": 7
    }
   ],
   "source": [
    "all_data.head()"
   ]
  },
  {
   "source": [
    "Next, I searched for missing data and found that the dataset is complete."
   ],
   "cell_type": "markdown",
   "metadata": {}
  },
  {
   "cell_type": "code",
   "execution_count": 8,
   "metadata": {},
   "outputs": [
    {
     "output_type": "execute_result",
     "data": {
      "text/plain": [
       "False"
      ]
     },
     "metadata": {},
     "execution_count": 8
    }
   ],
   "source": [
    "all_data.isna().any().any()"
   ]
  },
  {
   "source": [
    "Finally, I inspected data types. The 'Year' column is numerical, the while others are categorical."
   ],
   "cell_type": "markdown",
   "metadata": {}
  },
  {
   "cell_type": "code",
   "execution_count": 9,
   "metadata": {},
   "outputs": [
    {
     "output_type": "execute_result",
     "data": {
      "text/plain": [
       "Country                              object\n",
       "Year                                  int64\n",
       "Life expectancy at birth (years)    float64\n",
       "GDP                                 float64\n",
       "dtype: object"
      ]
     },
     "metadata": {},
     "execution_count": 9
    }
   ],
   "source": [
    "all_data.dtypes"
   ]
  },
  {
   "source": [
    "## Analysis\n",
    "\n",
    "I started my analysis..."
   ],
   "cell_type": "markdown",
   "metadata": {}
  }
 ],
 "metadata": {
  "kernelspec": {
   "name": "python385jvsc74a57bd0082e9a3bcad0a290d0001e938aa60b99250c6c2ef33a923c00b70f9826caf4b7",
   "display_name": "Python 3.8.5 64-bit ('3.8')"
  },
  "language_info": {
   "codemirror_mode": {
    "name": "ipython",
    "version": 3
   },
   "file_extension": ".py",
   "mimetype": "text/x-python",
   "name": "python",
   "nbconvert_exporter": "python",
   "pygments_lexer": "ipython3",
   "version": "3.8.5"
  }
 },
 "nbformat": 4,
 "nbformat_minor": 4
}